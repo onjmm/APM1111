{
 "cells": [
  {
   "cell_type": "code",
   "execution_count": 41,
   "id": "cf4a1cf9",
   "metadata": {},
   "outputs": [
    {
     "name": "stdout",
     "output_type": "stream",
     "text": [
      "First Quartile: 67.0\n",
      "Second Quartile (Median): 75.0\n",
      "Third Quartile: 83.0\n"
     ]
    }
   ],
   "source": [
    "import numpy as np\n",
    "\n",
    "grades = [\n",
    "    (90, 100, 9),\n",
    "    (80, 89, 32),\n",
    "    (70, 79, 43),\n",
    "    (60, 69, 21),\n",
    "    (50, 59, 11),\n",
    "    (40, 49, 3),\n",
    "    (30, 39, 1),\n",
    "]\n",
    "\n",
    "all_grades = []\n",
    "\n",
    "for lower, upper, frequency in grades:\n",
    "    all_grades.extend(list(range(lower, upper + 1)) * frequency)\n",
    "\n",
    "Q1 = np.percentile(all_grades, 25)\n",
    "Q2 = np.percentile(all_grades, 50)\n",
    "Q3 = np.percentile(all_grades, 75)\n",
    "\n",
    "print(f\"First Quartile: {Q1}\")\n",
    "print(f\"Second Quartile (Median): {Q2}\")\n",
    "print(f\"Third Quartile: {Q3}\")\n"
   ]
  },
  {
   "cell_type": "code",
   "execution_count": 42,
   "id": "b5df0501",
   "metadata": {},
   "outputs": [
    {
     "name": "stdout",
     "output_type": "stream",
     "text": [
      "Absolute Dispersion (Standard Deviation):\n",
      "Statistics: 8.0\n",
      "Algebra: 7.6\n",
      "Greater Absolute Dispersion: Statistics\n",
      "\n",
      "Relative Dispersion (Coefficient of Variation):\n",
      "Statistics: 10.26%\n",
      "Algebra: 10.41%\n",
      "Greater Relative Dispersion: Algebra\n"
     ]
    }
   ],
   "source": [
    "mean_stats = 78\n",
    "std_dev_stats = 8.0\n",
    "\n",
    "mean_algebra = 73\n",
    "std_dev_algebra = 7.6\n",
    "\n",
    "absolute_dispersion_stats = std_dev_stats\n",
    "absolute_dispersion_algebra = std_dev_algebra\n",
    "\n",
    "cv_stats = (std_dev_stats / mean_stats) * 100\n",
    "cv_algebra = (std_dev_algebra / mean_algebra) * 100\n",
    "\n",
    "print(f\"Absolute Dispersion (Standard Deviation):\")\n",
    "print(f\"Statistics: {absolute_dispersion_stats}\")\n",
    "print(f\"Algebra: {absolute_dispersion_algebra}\")\n",
    "greater_absolute = \"Statistics\" if absolute_dispersion_stats > absolute_dispersion_algebra else \"Algebra\"\n",
    "print(f\"Greater Absolute Dispersion: {greater_absolute}\")\n",
    "\n",
    "print(f\"\\nRelative Dispersion (Coefficient of Variation):\")\n",
    "print(f\"Statistics: {cv_stats:.2f}%\")\n",
    "print(f\"Algebra: {cv_algebra:.2f}%\")\n",
    "greater_relative = \"Statistics\" if cv_stats > cv_algebra else \"Algebra\"\n",
    "print(f\"Greater Relative Dispersion: {greater_relative}\")"
   ]
  },
  {
   "cell_type": "code",
   "execution_count": 43,
   "id": "0af0c5f8",
   "metadata": {},
   "outputs": [
    {
     "name": "stdout",
     "output_type": "stream",
     "text": [
      "Original Data: [6 2 8 7 5]\n",
      "Mean of Original Data: 5.6\n",
      "Standard Deviation of Original Data: 2.0591260281974\n",
      "Z-Scores: [ 0.19425717 -1.74831455  1.16554303  0.6799001  -0.29138576]\n",
      "Mean of Z-Scores: 0.0\n",
      "Standard Deviation of Z-Scores: 1.0\n"
     ]
    }
   ],
   "source": [
    "import numpy as np\n",
    "\n",
    "data = np.array([6, 2, 8, 7, 5])\n",
    "\n",
    "mean = np.mean(data)\n",
    "std_dev = np.std(data)\n",
    "\n",
    "z_scores = (data - mean) / std_dev\n",
    "\n",
    "mean_z = np.mean(z_scores)\n",
    "std_dev_z = np.std(z_scores)\n",
    "\n",
    "print(f\"Original Data: {data}\")\n",
    "print(f\"Mean of Original Data: {mean}\")\n",
    "print(f\"Standard Deviation of Original Data: {std_dev}\")\n",
    "print(f\"Z-Scores: {z_scores}\")\n",
    "print(f\"Mean of Z-Scores: {round(mean_z, 10)}\")\n",
    "print(f\"Standard Deviation of Z-Scores: {round(std_dev_z,10)}\")\n"
   ]
  },
  {
   "cell_type": "code",
   "execution_count": 44,
   "id": "90245296",
   "metadata": {},
   "outputs": [
    {
     "name": "stdout",
     "output_type": "stream",
     "text": [
      "Mean of the sum: 39.60 g\n",
      "Standard deviation of the sum: 0.740 g\n"
     ]
    }
   ],
   "source": [
    "import numpy as np\n",
    "\n",
    "masses = np.array([20.48, 35.97, 62.34])\n",
    "std_devs = np.array([0.21, 0.46, 0.54])\n",
    "\n",
    "mean_sum = np.mean(masses)\n",
    "std_dev_sum = np.sqrt(np.sum(std_devs**2))\n",
    "\n",
    "print(f\"Mean of the sum: {mean_sum:.2f} g\")\n",
    "print(f\"Standard deviation of the sum: {std_dev_sum:.3f} g\")"
   ]
  },
  {
   "cell_type": "code",
   "execution_count": 45,
   "id": "c77a5627",
   "metadata": {},
   "outputs": [
    {
     "name": "stdout",
     "output_type": "stream",
     "text": [
      "Mean: 12.0\n",
      "Variance: 10.8\n",
      "      Sample  Mean  Probability\n",
      "1     (6, 6)   6.0         0.01\n",
      "2     (6, 9)   7.5         0.02\n",
      "3    (6, 12)   9.0         0.04\n",
      "4    (6, 15)  10.5         0.02\n",
      "5    (6, 18)  12.0         0.01\n",
      "6     (9, 6)   7.5         0.02\n",
      "7     (9, 9)   9.0         0.04\n",
      "8    (9, 12)  10.5         0.08\n",
      "9    (9, 15)  12.0         0.04\n",
      "10   (9, 18)  13.5         0.02\n",
      "11   (12, 6)   9.0         0.04\n",
      "12   (12, 9)  10.5         0.08\n",
      "13  (12, 12)  12.0         0.16\n",
      "14  (12, 15)  13.5         0.08\n",
      "15  (12, 18)  15.0         0.04\n",
      "16   (15, 6)  10.5         0.02\n",
      "17   (15, 9)  12.0         0.04\n",
      "18  (15, 12)  13.5         0.08\n",
      "19  (15, 15)  15.0         0.04\n",
      "20  (15, 18)  16.5         0.02\n",
      "21   (18, 6)  12.0         0.01\n",
      "22   (18, 9)  13.5         0.02\n",
      "23  (18, 12)  15.0         0.04\n",
      "24  (18, 15)  16.5         0.02\n",
      "25  (18, 18)  18.0         0.01\n"
     ]
    }
   ],
   "source": [
    "import numpy as np\n",
    "import pandas as pd\n",
    "from itertools import product\n",
    "\n",
    "# Given data\n",
    "x = np.array([6, 9, 12, 15, 18])\n",
    "p = np.array([0.1, 0.2, 0.4, 0.2, 0.1])\n",
    "\n",
    "mean = round(np.sum(x * p),10)\n",
    "variance = np.sum((x - mean) ** 2 * p)\n",
    "print(f\"Mean: {mean}\")\n",
    "print(f\"Variance: {variance}\")\n",
    "\n",
    "samples = list(product(x, repeat=2))\n",
    "\n",
    "results = []\n",
    "for sample in samples:\n",
    "    mean_sample = np.mean(sample)\n",
    "    prob_sample = p[x == sample[0]][0] * p[x == sample[1]][0]\n",
    "    results.append((sample, mean_sample, prob_sample))\n",
    "\n",
    "results_df = pd.DataFrame(results, columns=['Sample', 'Mean', 'Probability'])\n",
    "\n",
    "results_df.index = range(1, len(results_df) + 1)\n",
    "\n",
    "print(results_df)"
   ]
  },
  {
   "cell_type": "code",
   "execution_count": null,
   "id": "69ca7c10",
   "metadata": {},
   "outputs": [],
   "source": []
  }
 ],
 "metadata": {
  "kernelspec": {
   "display_name": "Python 3 (ipykernel)",
   "language": "python",
   "name": "python3"
  },
  "language_info": {
   "codemirror_mode": {
    "name": "ipython",
    "version": 3
   },
   "file_extension": ".py",
   "mimetype": "text/x-python",
   "name": "python",
   "nbconvert_exporter": "python",
   "pygments_lexer": "ipython3",
   "version": "3.9.13"
  }
 },
 "nbformat": 4,
 "nbformat_minor": 5
}
