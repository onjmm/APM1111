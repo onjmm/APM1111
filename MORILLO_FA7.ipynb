{
 "cells": [
  {
   "cell_type": "code",
   "execution_count": 13,
   "id": "d18bfc08",
   "metadata": {},
   "outputs": [
    {
     "name": "stdout",
     "output_type": "stream",
     "text": [
      "First few rows of the dataset:\n",
      "   Participant  Cloak  Mischief\n",
      "0            1      0         3\n",
      "1            2      0         1\n",
      "2            3      0         5\n",
      "3            4      0         4\n",
      "4            5      0         6\n",
      "\n",
      "Assumption 1: The dependent variable (Mischief) is continuous.\n",
      "This assumption is satisfied since the number of mischievous acts is a continuous measure.\n",
      "\n",
      "Assumption 2: The independent variable (Cloak) has two independent groups.\n",
      "This assumption is satisfied with groups: 0 (without cloak) and 1 (with cloak).\n",
      "\n",
      "Assumption 3: Independence of observations.\n",
      "This assumption is satisfied as each participant is assigned to only one group.\n"
     ]
    },
    {
     "data": {
      "image/png": "[encoded data removed]",
      "text/plain": [
       "<Figure size 800x600 with 1 Axes>"
      ]
     },
     "metadata": {},
     "output_type": "display_data"
    },
    {
     "name": "stdout",
     "output_type": "stream",
     "text": [
      "\n",
      "Assumption 4: There should be no significant outliers.\n",
      "Boxplot inspection shows no extreme outliers in either group.\n",
      "\n",
      "Assumption 5: Normality of the dependent variable for each group.\n",
      "Shapiro-Wilk test for group without cloak: W=0.913, p=0.231\n",
      "Shapiro-Wilk test for group with cloak: W=0.973, p=0.936\n",
      "If p > 0.05, the assumption of normality holds.\n",
      "\n",
      "Independent samples t-test: t=-1.713, p=0.101\n",
      "There is no significant difference between the groups.\n",
      "Mean difference in mischievous acts: -1.25\n"
     ]
    }
   ],
   "source": [
    "import pandas as pd\n",
    "import scipy.stats as stats\n",
    "import matplotlib.pyplot as plt\n",
    "import seaborn as sns\n",
    "\n",
    "df = pd.read_csv(\"C:\\\\Users\\\\Dindette\\\\Downloads\\\\Invisibility Cloak.csv\")\n",
    "\n",
    "print(\"First few rows of the dataset:\")\n",
    "print(df.head())\n",
    "\n",
    "cloak_group = df[df['Cloak'] == 1]['Mischief']\n",
    "no_cloak_group = df[df['Cloak'] == 0]['Mischief']\n",
    "\n",
    "# Assumption 1\n",
    "print(\"\\nAssumption 1: The dependent variable (Mischief) is continuous.\")\n",
    "print(\"This assumption is satisfied since the number of mischievous acts is a continuous measure.\")\n",
    "\n",
    "# Assumption 2\n",
    "print(\"\\nAssumption 2: The independent variable (Cloak) has two independent groups.\")\n",
    "print(\"This assumption is satisfied with groups: 0 (without cloak) and 1 (with cloak).\")\n",
    "\n",
    "# Assumption 3\n",
    "print(\"\\nAssumption 3: Independence of observations.\")\n",
    "print(\"This assumption is satisfied as each participant is assigned to only one group.\")\n",
    "\n",
    "# Assumption 4\n",
    "plt.figure(figsize=(8, 6))\n",
    "sns.boxplot(x='Cloak', y='Mischief', data=df)\n",
    "plt.title('Boxplot of Mischief Acts by Cloak Status')\n",
    "plt.show()\n",
    "\n",
    "print(\"\\nAssumption 4: There should be no significant outliers.\")\n",
    "print(\"Boxplot inspection shows no extreme outliers in either group.\")\n",
    "\n",
    "# Assumption 5\n",
    "stat_no_cloak, p_no_cloak = stats.shapiro(no_cloak_group)\n",
    "stat_cloak, p_cloak = stats.shapiro(cloak_group)\n",
    "\n",
    "print(f\"\\nAssumption 5: Normality of the dependent variable for each group.\")\n",
    "print(f\"Shapiro-Wilk test for group without cloak: W={stat_no_cloak:.3f}, p={p_no_cloak:.3f}\")\n",
    "print(f\"Shapiro-Wilk test for group with cloak: W={stat_cloak:.3f}, p={p_cloak:.3f}\")\n",
    "print(\"If p > 0.05, the assumption of normality holds.\")\n",
    "\n",
    "t_stat, p_val = stats.ttest_ind(no_cloak_group, cloak_group)\n",
    "\n",
    "print(f'\\nIndependent samples t-test: t={t_stat:.3f}, p={p_val:.3f}')\n",
    "if p_val < 0.05:\n",
    "    print(\"There is a significant difference between the groups.\")\n",
    "else:\n",
    "    print(\"There is no significant difference between the groups.\")\n",
    "\n",
    "# Results\n",
    "mean_diff = no_cloak_group.mean() - cloak_group.mean()\n",
    "print(f'Mean difference in mischievous acts: {mean_diff:.2f}')\n"
   ]
  },
  {
   "cell_type": "code",
   "execution_count": null,
   "id": "da6d250b",
   "metadata": {},
   "outputs": [],
   "source": []
  }
 ],
 "metadata": {
  "kernelspec": {
   "display_name": "Python 3 (ipykernel)",
   "language": "python",
   "name": "python3"
  },
  "language_info": {
   "codemirror_mode": {
    "name": "ipython",
    "version": 3
   },
   "file_extension": ".py",
   "mimetype": "text/x-python",
   "name": "python",
   "nbconvert_exporter": "python",
   "pygments_lexer": "ipython3",
   "version": "3.9.13"
  }
 },
 "nbformat": 4,
 "nbformat_minor": 5
}
